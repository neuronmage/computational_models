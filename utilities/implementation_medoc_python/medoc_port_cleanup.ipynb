{
 "cells": [
  {
   "cell_type": "markdown",
   "id": "72b7f31f",
   "metadata": {},
   "source": [
    "## Mediated Connection through Server (medoc_server.py)"
   ]
  },
  {
   "cell_type": "code",
   "execution_count": 1,
   "id": "408a35ca",
   "metadata": {},
   "outputs": [],
   "source": [
    "##Set thermode temperature to baseline (32°C)\n",
    "\n",
    "import medoc_api.communicator as communicator\n",
    "\n",
    "def set_temperature_idle():\n",
    "    device_handler = communicator.Communicator(server = False, sep = \"|||\")\n",
    "    device_handler.send(\"execute\", \"device.ramp_to_idle\", \"None\", \"exit\")\n",
    "set_temperature_idle()\n"
   ]
  },
  {
   "cell_type": "code",
   "execution_count": 1,
   "id": "9f6db478",
   "metadata": {},
   "outputs": [],
   "source": [
    "##Set thermode temperature to desired target (°C)\n",
    "\n",
    "import medoc_api.communicator as communicator\n",
    "\n",
    "def set_temperature(temperature):\n",
    "    device_handler = communicator.Communicator(server = False, sep = \"|||\")\n",
    "    device_handler.send(\"execute\", \"device.ramp_to_target\", str(temperature), \"exit\")\n",
    "set_temperature(47)"
   ]
  },
  {
   "cell_type": "code",
   "execution_count": 5,
   "id": "6b417ec0",
   "metadata": {},
   "outputs": [],
   "source": [
    "##Terminate server connection to Medoc\n",
    "\n",
    "import medoc_api.communicator as communicator\n",
    "\n",
    "def shutdown_medoc():\n",
    "    device_handler = communicator.Communicator(server = False, sep = \"|||\")\n",
    "    device_handler.send(\"shutdown\")\n",
    "shutdown_medoc()"
   ]
  },
  {
   "cell_type": "markdown",
   "id": "7a96d54c",
   "metadata": {},
   "source": [
    "## Direct Connection to Medoc"
   ]
  },
  {
   "cell_type": "code",
   "execution_count": null,
   "id": "7147506c",
   "metadata": {},
   "outputs": [],
   "source": [
    "##Instantiates device handler class (as done in Psychopy)\n",
    "\n",
    "from medoc_api.tsa_device import TsaDevice\n",
    "from medoc_api import enums\n",
    "import logging\n",
    "import sys\n",
    "from threading import Thread\n",
    "import medoc_api.communicator as communicator\n",
    "from socket import error as socketError\n",
    "import time\n",
    "from device_handler2 import DeviceHandler #uncomment for actual Medoc\n",
    "\n",
    "device = DeviceHandler()"
   ]
  },
  {
   "cell_type": "code",
   "execution_count": null,
   "id": "4be1ac0d",
   "metadata": {},
   "outputs": [],
   "source": [
    "##Set thermode temperature to desired target (°C)\n",
    "\n",
    "device.ramp_to_target(47.0)"
   ]
  },
  {
   "cell_type": "code",
   "execution_count": null,
   "id": "988f3e0e",
   "metadata": {},
   "outputs": [],
   "source": [
    "#Set thermode temperature to baseline (32°C)\n",
    "\n",
    "device.ramp_to_idle()"
   ]
  },
  {
   "cell_type": "code",
   "execution_count": null,
   "id": "342db7f0",
   "metadata": {},
   "outputs": [],
   "source": [
    "#Terminate direct connection to Medoc\n",
    "\n",
    "device.tsa2_close()"
   ]
  }
 ],
 "metadata": {
  "kernelspec": {
   "display_name": "Python 3 (ipykernel)",
   "language": "python",
   "name": "python3"
  },
  "language_info": {
   "codemirror_mode": {
    "name": "ipython",
    "version": 3
   },
   "file_extension": ".py",
   "mimetype": "text/x-python",
   "name": "python",
   "nbconvert_exporter": "python",
   "pygments_lexer": "ipython3",
   "version": "3.8.10"
  }
 },
 "nbformat": 4,
 "nbformat_minor": 5
}
