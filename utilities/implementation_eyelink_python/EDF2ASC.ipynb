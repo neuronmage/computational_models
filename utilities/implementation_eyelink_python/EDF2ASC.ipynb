{
 "cells": [
  {
   "cell_type": "code",
   "execution_count": null,
   "metadata": {},
   "outputs": [],
   "source": [
    "import os \n",
    "from os.path import join\n",
    "import subprocess\n",
    "\n",
    "def checkasc(curr_path, edf_folder, edf_file):     \n",
    "        cmd = curr_path + \"edf2asc.exe\" ## current path and call of edf2asc.exe \n",
    "        os.chdir(edf_folder + edf_file) ## edf folder + file path - type str\n",
    "        dir1 = os.path.dirname(os.path.join(edf_folder, edf_file)) ## file path - type str\n",
    "        for _root, _dirs, files in os.walk(dir1):\n",
    "           for file in sorted(files):\n",
    "               if file.endswith(\".edf\"): ## check if edf file exists in the folder \n",
    "                       asc_file = file[:-3] + \"asc\" ## create ascfile name from the edf name\n",
    "                       if not os.path.isfile(asc_file) : ## check if an ascfile with this name already exists\n",
    "                           subprocess.run([cmd, file]) ## if not, execute and convert edftoasc\n",
    "curr_path = os.getcwd()\n",
    "edf_folder = join(os.getcwd(), \"mtest/\")\n",
    "edf_file = \"mtest_001.EDF\"\n",
    "\n",
    "checkasc(curr_path, edf_folder, edf_file)"
   ]
  }
 ],
 "metadata": {
  "kernelspec": {
   "display_name": "Python 3",
   "language": "python",
   "name": "python3"
  },
  "language_info": {
   "codemirror_mode": {
    "name": "ipython",
    "version": 3
   },
   "file_extension": ".py",
   "mimetype": "text/x-python",
   "name": "python",
   "nbconvert_exporter": "python",
   "pygments_lexer": "ipython3",
   "version": "3.8.10"
  },
  "orig_nbformat": 4
 },
 "nbformat": 4,
 "nbformat_minor": 2
}
