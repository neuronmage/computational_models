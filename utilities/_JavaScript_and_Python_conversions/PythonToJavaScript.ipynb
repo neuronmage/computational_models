{
 "cells": [
  {
   "cell_type": "markdown",
   "id": "6c278d2a",
   "metadata": {},
   "source": [
    "# Python to JavaScript tips"
   ]
  },
  {
   "cell_type": "markdown",
   "id": "3283d3ca",
   "metadata": {},
   "source": [
    "### Print is a jupyter demonstration function only -- not for pavlovia"
   ]
  },
  {
   "cell_type": "code",
   "execution_count": 1,
   "id": "f8691904",
   "metadata": {},
   "outputs": [
    {
     "data": {
      "text/html": [
       "<script>\n",
       "current_cell = undefined;\n",
       "function print(...value) {\n",
       "    //# get the currently running cell:\n",
       "    var outers = document.getElementsByClassName(\"cell code_cell rendered running\")[0];\n",
       "    //# the area into which text will be printed:\n",
       "    var print_space = outers.getElementsByClassName(\"output_subarea output_html rendered_html\")[0];\n",
       "    //# make the current cell empty the first time you print to it.\n",
       "    if (!current_cell || current_cell != print_space){\n",
       "        current_cell = print_space;\n",
       "        print_space.innerHTML = \"\";\n",
       "    }\n",
       "    //# add the text to a new line with div:\n",
       "    print_space.innerHTML += (\"<div>\"+value+\"</div>\").replaceAll(\", \", \",\").replaceAll(\",\", \", \").replaceAll(\"\\n\", \"</div><div>\");\n",
       "    //print_space.innerHTML = \"\";\n",
       "    \n",
       "    \n",
       "}\n",
       "print(\"Hello Jupyter Cell\");\n",
       "</script>\n"
      ],
      "text/plain": [
       "<IPython.core.display.HTML object>"
      ]
     },
     "metadata": {},
     "output_type": "display_data"
    }
   ],
   "source": [
    "%%HTML\n",
    "<script>\n",
    "current_cell = undefined;\n",
    "function print(...value) {\n",
    "    //# get the currently running cell:\n",
    "    var outers = document.getElementsByClassName(\"cell code_cell rendered running\")[0];\n",
    "    //# the area into which text will be printed:\n",
    "    var print_space = outers.getElementsByClassName(\"output_subarea output_html rendered_html\")[0];\n",
    "    //# make the current cell empty the first time you print to it.\n",
    "    if (!current_cell || current_cell != print_space){\n",
    "        current_cell = print_space;\n",
    "        print_space.innerHTML = \"\";\n",
    "    }\n",
    "    //# add the text to a new line with div:\n",
    "    print_space.innerHTML += (\"<div>\"+value+\"</div>\").replaceAll(\", \", \",\").replaceAll(\",\", \", \").replaceAll(\"\\n\", \"</div><div>\");\n",
    "    //print_space.innerHTML = \"\";\n",
    "    \n",
    "    \n",
    "}\n",
    "print(\"Hello Jupyter Cell\");\n",
    "</script>"
   ]
  },
  {
   "cell_type": "markdown",
   "id": "c4a16917",
   "metadata": {},
   "source": [
    "# PsychoPy to Pavlovia conversions made easy"
   ]
  },
  {
   "cell_type": "markdown",
   "id": "5d0205a2",
   "metadata": {},
   "source": [
    "## Helper functions"
   ]
  },
  {
   "cell_type": "code",
   "execution_count": 2,
   "id": "76d16af2",
   "metadata": {},
   "outputs": [
    {
     "data": {
      "text/html": [
       "<script>\n",
       "//# because Pavlovia doesn't auto convert append or extend to push, \n",
       "//#  make the same functions work for any javascript array by affecting the prototype\n",
       "Array.prototype.append = Array.prototype.push\n",
       "Array.prototype.extend = function(arr) {this.push(...arr)};\n",
       "\n",
       "arr = [1,2,3,4]\n",
       "arr.append(5)\n",
       "print(arr)\n",
       "arr.extend([6,7,8])\n",
       "print(arr)\n",
       "</script>\n"
      ],
      "text/plain": [
       "<IPython.core.display.HTML object>"
      ]
     },
     "metadata": {},
     "output_type": "display_data"
    }
   ],
   "source": [
    "%%HTML\n",
    "<script>\n",
    "//# because Pavlovia doesn't auto convert append or extend to push, \n",
    "//#  make the same functions work for any javascript array by affecting the prototype\n",
    "Array.prototype.append = Array.prototype.push\n",
    "Array.prototype.extend = function(arr) {this.push(...arr)};\n",
    "\n",
    "arr = [1,2,3,4]\n",
    "arr.append(5)\n",
    "print(arr)\n",
    "arr.extend([6,7,8])\n",
    "print(arr)\n",
    "</script>"
   ]
  },
  {
   "cell_type": "code",
   "execution_count": 33,
   "id": "fbddf733",
   "metadata": {},
   "outputs": [
    {
     "data": {
      "text/html": [
       "<script>\n",
       "//# how to format a class so that Pavlovia will accept it.\n",
       "//#  can convert the quest plus class to this \n",
       "//#  format to make it work in Pavlovia without pasting it after export.\n",
       "A = class {\n",
       "    constructor(name) {\n",
       "        this.name = name;\n",
       "    }\n",
       "    func(replace_name) {\n",
       "        this.name = replace_name;\n",
       "    }\n",
       "}\n",
       "a = new A(\"my name\");\n",
       "print(a.name)\n",
       "a.func(\"new name\");\n",
       "print(a.name)\n",
       "</script>\n"
      ],
      "text/plain": [
       "<IPython.core.display.HTML object>"
      ]
     },
     "metadata": {},
     "output_type": "display_data"
    }
   ],
   "source": [
    "%%HTML\n",
    "<script>\n",
    "//# how to format a class so that Pavlovia will accept it.\n",
    "//#  can convert the quest plus class to this \n",
    "//#  format to make it work in Pavlovia without pasting it after export.\n",
    "A = class {\n",
    "    constructor(name) {\n",
    "        this.name = name;\n",
    "    }\n",
    "    func(replace_name) {\n",
    "        this.name = replace_name;\n",
    "    }\n",
    "}\n",
    "\n",
    "a = new A(\"my name\");\n",
    "print(a.name)\n",
    "a.func(\"new name\");\n",
    "print(a.name)\n",
    "</script>"
   ]
  },
  {
   "cell_type": "code",
   "execution_count": 3,
   "id": "0869f47c",
   "metadata": {},
   "outputs": [
    {
     "data": {
      "text/html": [
       "<script>\n",
       "//# avoid using the \"function name(){}\" syntax\n",
       "//#  to account for Pavlovia's scope problems.\n",
       "range = function(start_stop, post_stop, step=1) {\n",
       "    //# create a list sequence with a starting point, stopping point, and step size\n",
       "    //#  the step size is assumed 1 if not provided\n",
       "    //#  the first value is considered the stopping point if the second value is not given,\n",
       "    //#   in which case the starting point is assumed to be 0.\n",
       "    //#  post_stop is the non-inclusive end point.\n",
       "    var arr = [];\n",
       "    if (post_stop != undefined) {\n",
       "        for (var i = start_stop; i < post_stop; i+=step) {\n",
       "            arr.push(i);\n",
       "        }\n",
       "    } else {\n",
       "        for (var i = 0; i < start_stop; i+=step) {\n",
       "            arr.push(i);\n",
       "        }\n",
       "    }\n",
       "    return arr;\n",
       "}\n",
       "\n",
       "round = function(value, decimals) {\n",
       "    //# JavaScript's Math.round() doesn't normally\n",
       "    //#  allow you to specify how many decimals you want!\n",
       "    var tmp = Math.pow(10, decimals);\n",
       "    return Math.round(value*tmp)/tmp;\n",
       "}\n",
       "\n",
       "arange = function(start_stop, post_stop, step=1, rounding=2) {\n",
       "    //# same as range(), but with rounding built-in\n",
       "    //# create a list sequence with a starting point, stopping point, and step size\n",
       "    //#  the step size is assumed 1 if not provided\n",
       "    //#  the first value is considered the stopping point if the second value is not given,\n",
       "    //#   in which case the starting point is assumed to be 0.\n",
       "    //#  post_stop is the non-inclusive end point.\n",
       "    var arr = [];\n",
       "    if (post_stop != undefined) {\n",
       "        for (var i = start_stop; i < post_stop; i+=step) {\n",
       "            arr.push(round(i,rounding));\n",
       "        }\n",
       "    } else {\n",
       "        for (var i = 0; i < start_stop; i+=step) {\n",
       "            arr.push(round(i,rounding));\n",
       "        }\n",
       "    }\n",
       "    return arr;\n",
       "}\n",
       "\n",
       "clone = function(arr) {\n",
       "    //# a recursive function that deep copies arrays and dictionaries    \n",
       "    var loops, tmp;\n",
       "    //# see if it is an array\n",
       "    //#  check a couple of things to try to avoid objects with these keys\n",
       "    if (Array.isArray(arr)) {\n",
       "        loops = arr;\n",
       "        tmp = [];\n",
       "    } else {\n",
       "        loops = Object.keys(arr);\n",
       "        tmp = {};\n",
       "    }\n",
       "    loops.forEach(function(val){\n",
       "        var value;\n",
       "        //# if the looped items are the array, push() to a list\n",
       "        if (loops === arr) {\n",
       "            value = val;\n",
       "            if (typeof(value) == \"object\") {\n",
       "                //# if the subelement is another complex object, \n",
       "                //#  then clone it as well.\n",
       "                tmp.push(clone(value));\n",
       "            } else {\n",
       "                tmp.push(value);\n",
       "            }\n",
       "        } else { //# if the looped items are the dictionary\n",
       "                 //#  add them with the key\n",
       "            value = arr[val];\n",
       "            if (typeof(value) == \"object\") {\n",
       "                //# if the subelement is another complex object, \n",
       "                //#  then clone it as well.\n",
       "                tmp[val] = clone(value);\n",
       "            } else {\n",
       "                tmp[val] = value;\n",
       "            }\n",
       "        }\n",
       "    })\n",
       "    return tmp;\n",
       "}\n",
       "//# assumes start of 0 and step size of 1,\n",
       "//#  and ends before 10\n",
       "print(\"assumed start: 0, stop: 10, assumed step: 1\")\n",
       "print(range(10));\n",
       "//# start of 5, end of 10, but assumes step size of 1.\n",
       "print(\"start: 5, stop: 10, assumed step: 1\")\n",
       "print(range(5,10));\n",
       "//# start of 0, end of 10, step size of 3.\n",
       "print(\"start: 0, stop: 10, step: 3\")\n",
       "print(range(0,10,3));\n",
       "//# includes float support, but doesn't \n",
       "//#  round or have as high floating point precision \n",
       "//#  like python's np.arange()\n",
       "print(\"Floating point steps\")\n",
       "print(range(0,10.01,.5));\n",
       "print(range(0,1.01,.1));\n",
       "print(\"Rounded floating point step\")\n",
       "print(arange(0,1.01,.05, 2));\n",
       "\n",
       "</script>\n"
      ],
      "text/plain": [
       "<IPython.core.display.HTML object>"
      ]
     },
     "metadata": {},
     "output_type": "display_data"
    }
   ],
   "source": [
    "%%HTML\n",
    "<script>\n",
    "//# avoid using the \"function name(){}\" syntax\n",
    "//#  to account for Pavlovia's scope problems.\n",
    "range = function(start_stop, post_stop, step=1) {\n",
    "    //# create a list sequence with a starting point, stopping point, and step size\n",
    "    //#  the step size is assumed 1 if not provided\n",
    "    //#  the first value is considered the stopping point if the second value is not given,\n",
    "    //#   in which case the starting point is assumed to be 0.\n",
    "    //#  post_stop is the non-inclusive end point.\n",
    "    var arr = [];\n",
    "    if (post_stop != undefined) {\n",
    "        for (var i = start_stop; i < post_stop; i+=step) {\n",
    "            arr.push(i);\n",
    "        }\n",
    "    } else {\n",
    "        for (var i = 0; i < start_stop; i+=step) {\n",
    "            arr.push(i);\n",
    "        }\n",
    "    }\n",
    "    return arr;\n",
    "}\n",
    "\n",
    "round = function(value, decimals) {\n",
    "    //# JavaScript's Math.round() doesn't normally\n",
    "    //#  allow you to specify how many decimals you want!\n",
    "    var tmp = Math.pow(10, decimals);\n",
    "    return Math.round(value*tmp)/tmp;\n",
    "}\n",
    "\n",
    "arange = function(start_stop, post_stop, step=1, rounding=2) {\n",
    "    //# same as range(), but with rounding built-in\n",
    "    //# create a list sequence with a starting point, stopping point, and step size\n",
    "    //#  the step size is assumed 1 if not provided\n",
    "    //#  the first value is considered the stopping point if the second value is not given,\n",
    "    //#   in which case the starting point is assumed to be 0.\n",
    "    //#  post_stop is the non-inclusive end point.\n",
    "    var arr = [];\n",
    "    if (post_stop != undefined) {\n",
    "        for (var i = start_stop; i < post_stop; i+=step) {\n",
    "            arr.push(round(i,rounding));\n",
    "        }\n",
    "    } else {\n",
    "        for (var i = 0; i < start_stop; i+=step) {\n",
    "            arr.push(round(i,rounding));\n",
    "        }\n",
    "    }\n",
    "    return arr;\n",
    "}\n",
    "\n",
    "clone = function(arr) {\n",
    "    //# a recursive function that deep copies arrays and dictionaries    \n",
    "    var loops, tmp;\n",
    "    //# see if it is an array\n",
    "    //#  check a couple of things to try to avoid objects with these keys\n",
    "    if (Array.isArray(arr)) {\n",
    "        loops = arr;\n",
    "        tmp = [];\n",
    "    } else {\n",
    "        loops = Object.keys(arr);\n",
    "        tmp = {};\n",
    "    }\n",
    "    loops.forEach(function(val){\n",
    "        var value;\n",
    "        //# if the looped items are the array, push() to a list\n",
    "        if (loops === arr) {\n",
    "            value = val;\n",
    "            if (typeof(value) == \"object\") {\n",
    "                //# if the subelement is another complex object, \n",
    "                //#  then clone it as well.\n",
    "                tmp.push(clone(value));\n",
    "            } else {\n",
    "                tmp.push(value);\n",
    "            }\n",
    "        } else { //# if the looped items are the dictionary\n",
    "                 //#  add them with the key\n",
    "            value = arr[val];\n",
    "            if (typeof(value) == \"object\") {\n",
    "                //# if the subelement is another complex object, \n",
    "                //#  then clone it as well.\n",
    "                tmp[val] = clone(value);\n",
    "            } else {\n",
    "                tmp[val] = value;\n",
    "            }\n",
    "        }\n",
    "    })\n",
    "    return tmp;\n",
    "}\n",
    "//# assumes start of 0 and step size of 1,\n",
    "//#  and ends before 10\n",
    "print(\"assumed start: 0, stop: 10, assumed step: 1\")\n",
    "print(range(10));\n",
    "//# start of 5, end of 10, but assumes step size of 1.\n",
    "print(\"start: 5, stop: 10, assumed step: 1\")\n",
    "print(range(5,10));\n",
    "//# start of 0, end of 10, step size of 3.\n",
    "print(\"start: 0, stop: 10, step: 3\")\n",
    "print(range(0,10,3));\n",
    "//# includes float support, but doesn't \n",
    "//#  round or have as high floating point precision \n",
    "//#  like python's np.arange()\n",
    "print(\"Floating point steps\")\n",
    "print(range(0,10.01,.5));\n",
    "print(range(0,1.01,.1));\n",
    "print(\"Rounded floating point step\")\n",
    "print(arange(0,1.01,.05, 2));\n",
    "\n",
    "</script>"
   ]
  },
  {
   "cell_type": "code",
   "execution_count": 4,
   "id": "f78f7506",
   "metadata": {},
   "outputs": [
    {
     "data": {
      "text/html": [
       "<script>\n",
       "//# contains useful random number generation functions.\n",
       "random = {\"random\": function(start_stop=1, post_stop=undefined, count=1) {\n",
       "                var results = [];\n",
       "                range(count).forEach(function(){\n",
       "                  //# Math.random() never gives exactly 1, so it\n",
       "                  //#  never reaches the provided max value.\n",
       "                  if (post_stop != undefined) {\n",
       "                      if (post_stop < start_stop) {\n",
       "                          var tmp = post_stop;\n",
       "                          post_stop = start_stop;\n",
       "                          start_stop = tmp;\n",
       "                      }\n",
       "                      results.push((start_stop+Math.random()*(post_stop-start_stop)));\n",
       "                  } else {\n",
       "                      //# if post_stop is not defined, start_stop is the non-inclusive max value.\n",
       "                      results.push((Math.random()*start_stop));\n",
       "                  }\n",
       "                });\n",
       "                if (count == 1)\n",
       "                    return results[0];\n",
       "                return results;       \n",
       "          }, \n",
       "          \"randint\":function(start_stop, post_stop, count=1){\n",
       "                var results = [];\n",
       "                range(count).forEach(function(){\n",
       "                  //# Math.random() never gives exactly 1, so it\n",
       "                  //#  never reaches the provided max value.\n",
       "                  if (post_stop != undefined) {\n",
       "                      if (post_stop < start_stop) {\n",
       "                          var tmp = post_stop;\n",
       "                          post_stop = start_stop;\n",
       "                          start_stop = tmp;\n",
       "                      }\n",
       "                      results.push(parseInt(start_stop+Math.random()*(post_stop-start_stop)));\n",
       "                  } else {\n",
       "                      //# if post_stop is not defined, start_stop is the non-inclusive max value.\n",
       "                      results.push(parseInt(Math.random()*start_stop));\n",
       "                  }\n",
       "                });\n",
       "                if (count == 1)\n",
       "                    return results[0];\n",
       "                return results;\n",
       "          },\n",
       "          \"choice\":function(arr, count=1, with_replacement=true){\n",
       "                var results = [];\n",
       "                if (with_replacement) {\n",
       "                    range(count).forEach(function(){\n",
       "                        results.push(arr[random.randint(arr.length)]);\n",
       "                    });\n",
       "                } else {\n",
       "                    //# make a shallow copy to choose from.\n",
       "                    //#  you can always clone the returned result if you want unique copies,\n",
       "                    //#  and it makes no difference for arrays of primitives \n",
       "                    //#  (like numeric indices or string keys).\n",
       "                    var tmp = [...arr];//clone(arr);\n",
       "                    console.log(tmp);\n",
       "                    range(count).forEach(function(){\n",
       "                        if (tmp.length == 0)\n",
       "                            //# refill the array\n",
       "                            tmp = [...arr];//clone(arr);\n",
       "                        results.push(tmp.splice(random.randint(tmp.length),1));\n",
       "                    });\n",
       "                }\n",
       "                if (count == 1)\n",
       "                    return results[0];\n",
       "                return results;\n",
       "          }};\n",
       "arr = [1,2,3,4,5];\n",
       "print(\"5 Random floats in the space [0,1)\")\n",
       "print(random.random(0,1,5));\n",
       "print(\"5 Random floats in the space [5,10)\")\n",
       "print(random.random(5,10,5));\n",
       "print(\"5 Random integers in the space [5,10)\")\n",
       "print(random.randint(5,10, 5));\n",
       "print(\"5 Random choices with replacement\")\n",
       "print(random.choice(arr, 5));\n",
       "print(\"5 Random choices without replacement\")\n",
       "print(random.choice(arr, 5, false));\n",
       "//# causes repeats only after the array is depleted.\n",
       "print(\"Random choices without replacement, exceeding the size of the array\")\n",
       "print(random.choice(arr, arr.length*2, false));\n",
       "</script>\n"
      ],
      "text/plain": [
       "<IPython.core.display.HTML object>"
      ]
     },
     "metadata": {},
     "output_type": "display_data"
    }
   ],
   "source": [
    "%%HTML\n",
    "<script>\n",
    "//# contains useful random number generation functions.\n",
    "random = {\"random\": function(start_stop=1, post_stop=undefined, count=1) {\n",
    "                var results = [];\n",
    "                range(count).forEach(function(){\n",
    "                  //# Math.random() never gives exactly 1, so it\n",
    "                  //#  never reaches the provided max value.\n",
    "                  if (post_stop != undefined) {\n",
    "                      if (post_stop < start_stop) {\n",
    "                          var tmp = post_stop;\n",
    "                          post_stop = start_stop;\n",
    "                          start_stop = tmp;\n",
    "                      }\n",
    "                      results.push((start_stop+Math.random()*(post_stop-start_stop)));\n",
    "                  } else {\n",
    "                      //# if post_stop is not defined, start_stop is the non-inclusive max value.\n",
    "                      results.push((Math.random()*start_stop));\n",
    "                  }\n",
    "                });\n",
    "                if (count == 1)\n",
    "                    return results[0];\n",
    "                return results;       \n",
    "          }, \n",
    "          \"randint\":function(start_stop, post_stop, count=1){\n",
    "                var results = [];\n",
    "                range(count).forEach(function(){\n",
    "                  //# Math.random() never gives exactly 1, so it\n",
    "                  //#  never reaches the provided max value.\n",
    "                  if (post_stop != undefined) {\n",
    "                      if (post_stop < start_stop) {\n",
    "                          var tmp = post_stop;\n",
    "                          post_stop = start_stop;\n",
    "                          start_stop = tmp;\n",
    "                      }\n",
    "                      results.push(parseInt(start_stop+Math.random()*(post_stop-start_stop)));\n",
    "                  } else {\n",
    "                      //# if post_stop is not defined, start_stop is the non-inclusive max value.\n",
    "                      results.push(parseInt(Math.random()*start_stop));\n",
    "                  }\n",
    "                });\n",
    "                if (count == 1)\n",
    "                    return results[0];\n",
    "                return results;\n",
    "          },\n",
    "          \"choice\":function(arr, count=1, with_replacement=true){\n",
    "                var results = [];\n",
    "                if (with_replacement) {\n",
    "                    range(count).forEach(function(){\n",
    "                        results.push(arr[random.randint(arr.length)]);\n",
    "                    });\n",
    "                } else {\n",
    "                    //# make a shallow copy to choose from.\n",
    "                    //#  you can always clone the returned result if you want unique copies,\n",
    "                    //#  and it makes no difference for arrays of primitives \n",
    "                    //#  (like numeric indices or string keys).\n",
    "                    var tmp = [...arr];//clone(arr);\n",
    "                    console.log(tmp);\n",
    "                    range(count).forEach(function(){\n",
    "                        if (tmp.length == 0)\n",
    "                            //# refill the array\n",
    "                            tmp = [...arr];//clone(arr);\n",
    "                        results.push(tmp.splice(random.randint(tmp.length),1));\n",
    "                    });\n",
    "                }\n",
    "                if (count == 1)\n",
    "                    return results[0];\n",
    "                return results;\n",
    "          }};\n",
    "arr = [1,2,3,4,5];\n",
    "print(\"5 Random floats in the space [0,1)\")\n",
    "print(random.random(0,1,5));\n",
    "print(\"5 Random floats in the space [5,10)\")\n",
    "print(random.random(5,10,5));\n",
    "print(\"5 Random integers in the space [5,10)\")\n",
    "print(random.randint(5,10, 5));\n",
    "print(\"5 Random choices with replacement\")\n",
    "print(random.choice(arr, 5));\n",
    "print(\"5 Random choices without replacement\")\n",
    "print(random.choice(arr, 5, false));\n",
    "//# causes repeats only after the array is depleted.\n",
    "print(\"Random choices without replacement, exceeding the size of the array\")\n",
    "print(random.choice(arr, arr.length*2, false));\n",
    "</script>"
   ]
  },
  {
   "cell_type": "markdown",
   "id": "f4858661",
   "metadata": {},
   "source": [
    "## For Each Loops\n",
    "JavaScript's for loops are usually very different than Python's, but there are ways to make them do very similar things."
   ]
  },
  {
   "cell_type": "code",
   "execution_count": 5,
   "id": "8bb85532",
   "metadata": {},
   "outputs": [
    {
     "name": "stdout",
     "output_type": "stream",
     "text": [
      "1\n",
      "2\n",
      "3\n",
      "4\n",
      "5\n",
      "1\n",
      "2\n",
      "3\n",
      "4\n",
      "5\n"
     ]
    }
   ],
   "source": [
    "# loops through list/array contents\n",
    "\n",
    "# python's range function is a generator, rather than a list\n",
    "arr = list(range(1,6))\n",
    "for value in arr:\n",
    "    print(value)\n",
    "\n",
    "# same as:\n",
    "for i in range(len(arr)):\n",
    "    print(arr[i])"
   ]
  },
  {
   "cell_type": "code",
   "execution_count": 6,
   "id": "de61974b",
   "metadata": {},
   "outputs": [
    {
     "data": {
      "text/html": [
       "<script>\n",
       "arr = range(1,6);\n",
       "//# this JavaScript for loop version looks silly, but has \n",
       "//#  fewer places to make mistakes, and\n",
       "//#  as we will see later, is the more generically useful of the two forms.\n",
       "arr.forEach(function(value) {\n",
       "    print(value);\n",
       "});\n",
       "\n",
       "//# same as above, but more settings:\n",
       "//# there are controls for the starting point; stopping point; and step size (i++ is the same as i+=1)\n",
       "for (var i=0; i < arr.length; i++) {\n",
       "    print(arr[i]);\n",
       "}\n",
       "</script>\n"
      ],
      "text/plain": [
       "<IPython.core.display.HTML object>"
      ]
     },
     "metadata": {},
     "output_type": "display_data"
    }
   ],
   "source": [
    "%%HTML\n",
    "<script>\n",
    "arr = range(1,6);\n",
    "//# this JavaScript for loop version looks silly, but has \n",
    "//#  fewer places to make mistakes, and\n",
    "//#  as we will see later, is the more generically useful of the two forms.\n",
    "arr.forEach(function(value) {\n",
    "    print(value);\n",
    "});\n",
    "\n",
    "//# same as above, but more settings:\n",
    "//# there are controls for the starting point; stopping point; and step size (i++ is the same as i+=1)\n",
    "for (var i=0; i < arr.length; i++) {\n",
    "    print(arr[i]);\n",
    "}\n",
    "</script>"
   ]
  },
  {
   "cell_type": "markdown",
   "id": "9618f43a",
   "metadata": {},
   "source": [
    "# Scope and complex .forEach instances"
   ]
  },
  {
   "cell_type": "code",
   "execution_count": 38,
   "id": "8b4853fb",
   "metadata": {},
   "outputs": [
    {
     "name": "stdout",
     "output_type": "stream",
     "text": [
      "index: 0  value: 1  arbitrary indexing: 1\n",
      "index: 1  value: 2  arbitrary indexing: 1\n",
      "index: 2  value: 3  arbitrary indexing: 1\n",
      "index: 3  value: 4  arbitrary indexing: 1\n",
      "index: 4  value: 5  arbitrary indexing: 1\n",
      "Locally change Arr\n",
      "[4, 3, 2, 1]\n",
      "Unchanged:\n",
      "[1, 2, 3, 4, 5]\n",
      "Globally change Arr\n",
      "[4, 3, 2, 1]\n",
      "Changed:\n",
      "[4, 3, 2, 1]\n"
     ]
    }
   ],
   "source": [
    "# loops through list/array contents while also enumerating to get the index\n",
    "arr = list(range(1,6))\n",
    "for i,value in enumerate(arr):\n",
    "    print(\"index:\", i, \" value:\", value, \" arbitrary indexing:\", arr[0])\n",
    "\n",
    "# the \"scope\" refers to the space in which a variable is declared.\n",
    "#  indentations past each ':' for functions, conditionals, and loops are different scopes \n",
    "#  and can declare separate variables with the same names without influencing each other.\n",
    "\n",
    "def scope_demoA():\n",
    "    # JavaScript assumes a variable is global unless told otherwise.\n",
    "    # Python assumes a variable is local unless told otherwise.\n",
    "    \n",
    "    # by default, a variable is local to this Python function \n",
    "    #  and not affect the outer, global arr:\n",
    "    arr = [4,3,2,1]\n",
    "    return arr\n",
    "\n",
    "def scope_demoB():\n",
    "    # this is how you make a variable global to this Python function \n",
    "    #  and affect the outer, global arr:\n",
    "    global arr # this must be the first real line of code in the function!\n",
    "    \n",
    "    arr = [4,3,2,1]\n",
    "    return arr\n",
    "\n",
    "print(\"Locally change Arr\")\n",
    "print(scope_demoA())\n",
    "print(\"Unchanged:\")\n",
    "print(arr)\n",
    "print(\"Globally change Arr\")\n",
    "print(scope_demoB())\n",
    "print(\"Changed:\")\n",
    "print(arr)"
   ]
  },
  {
   "cell_type": "code",
   "execution_count": 8,
   "id": "89bfc4fb",
   "metadata": {},
   "outputs": [
    {
     "data": {
      "text/html": [
       "<script>\n",
       "arr = range(1,6);\n",
       "arr.forEach(function(value, i) {\n",
       "    print(\"index: \" + i, \" value: \" + value, \" arbitrary indexing: \" + arr[0])\n",
       "});\n",
       "print(\"Strict scope pedantry\")\n",
       "//# the previous scope technially already defines arr, \n",
       "//#  but there is an optional 3rd parameter you can declare it explicitly\n",
       "//#  if you have very complex code with many scopes.\n",
       "\n",
       "//# the \"scope\" refers to the space in which a variable is declared.\n",
       "//#  each set of {}'s for functions, conditionals, and loops are different scopes \n",
       "//#  and can declare separate variables with the same names without influencing each other.\n",
       "\n",
       "\n",
       "//#  Pavlovia handles declarations of global variables in the background, \n",
       "//#   so only declare variables in builder with \"var\" if you are using it in a function where it should be separate.\n",
       "arr.forEach(function(value, i, arr_scope_name) {\n",
       "    print(\"index: \" + i, \" value: \" + value, \" arbitrary indexing: \" + arr_scope_name[0])\n",
       "});\n",
       "\n",
       "function scope_demoA(){\n",
       "    //# JavaScript assumes a variable is global unless told otherwise.\n",
       "    //# Python assumes a variable is local unless told otherwise.\n",
       "    \n",
       "    //# this is how you make a variable local to this JavaScript function \n",
       "    //#  and not affect the outer, global arr:\n",
       "    var arr = [4,3,2,1];\n",
       "    return arr;\n",
       "}\n",
       "function scope_demoB(){\n",
       "    arr = [5,4,3,2];\n",
       "    return arr;\n",
       "}\n",
       "//# scope demo A's \"arr\" doesn't override the global arr\n",
       "print(\"Locally change Arr\")\n",
       "print(scope_demoA());\n",
       "print(\"Unchanged:\")\n",
       "print(arr);\n",
       "\n",
       "//# scope demo B's \"arr\" does override the global arr\n",
       "print(\"Globally change Arr\")\n",
       "print(scope_demoB());\n",
       "print(\"Changed:\")\n",
       "print(arr);\n",
       "\n",
       "</script>\n"
      ],
      "text/plain": [
       "<IPython.core.display.HTML object>"
      ]
     },
     "metadata": {},
     "output_type": "display_data"
    }
   ],
   "source": [
    "%%HTML\n",
    "<script>\n",
    "arr = range(1,6);\n",
    "arr.forEach(function(value, i) {\n",
    "    print(\"index: \" + i, \" value: \" + value, \" arbitrary indexing: \" + arr[0])\n",
    "});\n",
    "print(\"Strict scope pedantry\")\n",
    "//# the previous scope technially already defines arr, \n",
    "//#  but there is an optional 3rd parameter you can declare it explicitly\n",
    "//#  if you have very complex code with many scopes.\n",
    "\n",
    "//# the \"scope\" refers to the space in which a variable is declared.\n",
    "//#  each set of {}'s for functions, conditionals, and loops are different scopes \n",
    "//#  and can declare separate variables with the same names without influencing each other.\n",
    "\n",
    "\n",
    "//#  Pavlovia handles declarations of global variables in the background, \n",
    "//#  so only declare variables in builder with \"var\" if you are using it in a function where it should be separate.\n",
    "arr.forEach(function(value, i, arr_scope_name) {\n",
    "    print(\"index: \" + i, \" value: \" + value, \" arbitrary indexing: \" + arr_scope_name[0])\n",
    "});\n",
    "\n",
    "function scope_demoA(){\n",
    "    //# JavaScript assumes a variable is global unless told otherwise.\n",
    "    //# Python assumes a variable is local unless told otherwise.\n",
    "    \n",
    "    //# this is how you make a variable local to this JavaScript function \n",
    "    //#  and not affect the outer, global arr:\n",
    "    var arr = [4,3,2,1];\n",
    "    return arr;\n",
    "}\n",
    "function scope_demoB(){\n",
    "    arr = [5,4,3,2];\n",
    "    return arr;\n",
    "}\n",
    "//# scope demo A's \"arr\" doesn't override the global arr\n",
    "print(\"Locally change Arr\")\n",
    "print(scope_demoA());\n",
    "print(\"Unchanged:\")\n",
    "print(arr);\n",
    "\n",
    "//# scope demo B's \"arr\" does override the global arr\n",
    "print(\"Globally change Arr\")\n",
    "print(scope_demoB());\n",
    "print(\"Changed:\")\n",
    "print(arr);\n",
    "\n",
    "</script>"
   ]
  },
  {
   "cell_type": "markdown",
   "id": "4104cfc4",
   "metadata": {},
   "source": [
    "# Dictionaries"
   ]
  },
  {
   "cell_type": "code",
   "execution_count": 40,
   "id": "4c3f5423",
   "metadata": {},
   "outputs": [
    {
     "name": "stdout",
     "output_type": "stream",
     "text": [
      "a, 1\n",
      "b, 2\n",
      "c, 3\n"
     ]
    }
   ],
   "source": [
    "d = {'a':1, 'b':2, 'c':3}\n",
    "for key in d:\n",
    "    # do something with each key, including accessing the dictionary.\n",
    "    print(key+\",\", d[key])"
   ]
  },
  {
   "cell_type": "code",
   "execution_count": 10,
   "id": "8ccb2e1a",
   "metadata": {},
   "outputs": [
    {
     "data": {
      "text/html": [
       "<script>\n",
       "//# dictionary's rough equivalent is an Object:\n",
       "d = {'a':1, 'b':2, 'c':3}\n",
       "//# get the list of dictionary keys from the Object named 'd'\n",
       "keys = Object.keys(d);\n",
       "//# do something with each key, including accessing the dictionary.\n",
       "keys.forEach(function(key) {\n",
       "    print(key, \" \" + d[key]);\n",
       "});\n",
       "</script>\n"
      ],
      "text/plain": [
       "<IPython.core.display.HTML object>"
      ]
     },
     "metadata": {},
     "output_type": "display_data"
    }
   ],
   "source": [
    "%%HTML\n",
    "<script>\n",
    "//# dictionary's rough equivalent is an Object:\n",
    "d = {'a':1, 'b':2, 'c':3}\n",
    "//# get the list of dictionary keys from the Object named 'd'\n",
    "keys = Object.keys(d);\n",
    "//# do something with each key, including accessing the dictionary.\n",
    "keys.forEach(function(key) {\n",
    "    print(key, \" \" + d[key]);\n",
    "});\n",
    "</script>"
   ]
  },
  {
   "cell_type": "markdown",
   "id": "6b987bec",
   "metadata": {},
   "source": [
    "# List Comprehension"
   ]
  },
  {
   "cell_type": "code",
   "execution_count": 11,
   "id": "06352b1c",
   "metadata": {},
   "outputs": [
    {
     "name": "stdout",
     "output_type": "stream",
     "text": [
      "The resulting list from a list comprehension containing squared values from 1 to 9\n",
      "[1, 4, 9, 16, 25, 36, 49, 64, 81]\n"
     ]
    }
   ],
   "source": [
    "# the minimum requirements of list comprehension: construct an array based on \n",
    "#  an expression that gives a value (left side) and a loop (right side).\n",
    "p = [i * i for i in range(1, 10)]\n",
    "print(\"The resulting list from a list comprehension containing squared values from 1 to 9\")\n",
    "print(p)"
   ]
  },
  {
   "cell_type": "code",
   "execution_count": null,
   "id": "f201d766",
   "metadata": {},
   "outputs": [],
   "source": [
    "%%HTML\n",
    "<script>\n",
    "// make the empty array to build into.\n",
    "p = [];\n",
    "// add values to the array with the push() function.\n",
    "range(1, 10).forEach(function(i){p.push(i * i)});\n",
    "print(\"The resulting list from a list comprehension containing squared values from 1 to 9\")\n",
    "print(p);\n",
    "\n",
    "</script>"
   ]
  },
  {
   "cell_type": "code",
   "execution_count": 12,
   "id": "3f1ecee8",
   "metadata": {},
   "outputs": [
    {
     "data": {
      "text/html": [
       "<script>\n",
       "// make the empty array to build into.\n",
       "preexisting = random.randint(1, 51, 72);\n",
       "alpha = 1.1;\n",
       "beta = 0.5;\n",
       "prob = 0.5;\n",
       "amb = 0;\n",
       "sv = [];\n",
       "// add values to the array with the push() function.\n",
       "preexisting.forEach(function(money){sv.push((prob - beta*amb/2)*Math.pow(money, alpha))});\n",
       "print(\"The resulting list from a list comprehension containing squared values from 1 to 9\")\n",
       "print(sv);\n",
       "\n",
       "</script>\n"
      ],
      "text/plain": [
       "<IPython.core.display.HTML object>"
      ]
     },
     "metadata": {},
     "output_type": "display_data"
    }
   ],
   "source": [
    "%%HTML\n",
    "<script>\n",
    "// make the empty array to build into.\n",
    "preexisting = random.randint(1, 51, 72);\n",
    "alpha = 1.1;\n",
    "beta = 0.5;\n",
    "prob = 0.5;\n",
    "amb = 0;\n",
    "sv = [];\n",
    "// add values to the array with the push() function.\n",
    "preexisting.forEach(function(money){sv.push((prob - beta*amb/2)*Math.pow(money, alpha))});\n",
    "print(\"The resulting list from a list comprehension containing squared values from 1 to 9\")\n",
    "print(sv);\n",
    "\n",
    "</script>"
   ]
  },
  {
   "cell_type": "markdown",
   "id": "402f961b",
   "metadata": {},
   "source": [
    "# List Comprehension w/ Conditionals"
   ]
  },
  {
   "cell_type": "code",
   "execution_count": 44,
   "id": "287de20c",
   "metadata": {},
   "outputs": [
    {
     "name": "stdout",
     "output_type": "stream",
     "text": [
      "Only even values squared and kept in a list comprehension\n",
      "[4, 16, 36, 64]\n"
     ]
    }
   ],
   "source": [
    "# conditional list comprehension adds a conditional statement to \n",
    "# whether the expression should be added to the new list.\n",
    "p = [i * i for i in range(1, 10) if i%2==0]\n",
    "print(\"Only even values squared and kept in a list comprehension\")\n",
    "print(p)"
   ]
  },
  {
   "cell_type": "code",
   "execution_count": 13,
   "id": "c7ef705d",
   "metadata": {},
   "outputs": [
    {
     "data": {
      "text/html": [
       "<script>\n",
       "//# make the empty array to build into.\n",
       "p = [];\n",
       "//# if there is exactly one line 'underneath' it \n",
       "//#  (like in this example and all python list comprehensions), \n",
       "//#  then the if statement does not need to add extra brackets.\n",
       "//# add values to the array with the push() function.\n",
       "range(1, 10).forEach(function(i){if(i%2==0) p.push(i*i)});\n",
       "print(\"Only even values squared and kept in a list comprehension\")\n",
       "print(p);\n",
       "\n",
       "</script>\n"
      ],
      "text/plain": [
       "<IPython.core.display.HTML object>"
      ]
     },
     "metadata": {},
     "output_type": "display_data"
    }
   ],
   "source": [
    "%%HTML\n",
    "<script>\n",
    "//# make the empty array to build into.\n",
    "p = [];\n",
    "//# if there is exactly one line 'underneath' it \n",
    "//#  (like in this example and all python list comprehensions), \n",
    "//#  then the if statement does not need to add extra brackets.\n",
    "//# add values to the array with the push() function.\n",
    "range(1, 10).forEach(function(i){if(i%2==0) p.push(i * i)});\n",
    "print(\"Only even values squared and kept in a list comprehension\")\n",
    "print(p);\n",
    "\n",
    "</script>"
   ]
  },
  {
   "cell_type": "markdown",
   "id": "31352384",
   "metadata": {},
   "source": [
    "## Copying 1-dimensional arrays of primitives"
   ]
  },
  {
   "cell_type": "code",
   "execution_count": 14,
   "id": "c0ff32cc",
   "metadata": {},
   "outputs": [
    {
     "name": "stdout",
     "output_type": "stream",
     "text": [
      "Correctly copied contents modified separately:\n",
      "[5, 2, 3, 4, 5]\n",
      "Original contents not modified by a good copy:\n",
      "[1, 2, 3, 4, 5]\n",
      "Original contents modified by a bad copy.\n",
      "[0, 2, 3, 4, 5]\n"
     ]
    }
   ],
   "source": [
    "arr = [1,2,3,4,5]\n",
    "# lists and dictionaries are stored by the _reference_ \n",
    "#  to the real content in memory, \n",
    "#  so errors like this don't make copies of the contents, \n",
    "#  just the reference to the same content.\n",
    "bad_copy = arr\n",
    "# if the contents are primitive (like numbers and strings)\n",
    "#  you can place them all into a new list with the unpacking operator '*'\n",
    "arr_copy = [*arr]\n",
    "arr_copy[0] = 5\n",
    "\n",
    "print(\"Correctly copied contents modified separately:\")\n",
    "print(arr_copy)\n",
    "print(\"Original contents not modified by a good copy:\")\n",
    "print(arr)\n",
    "# using copies of a reference affects the original contents\n",
    "bad_copy[0] = 0\n",
    "print(\"Original contents modified by a bad copy.\")\n",
    "print(arr)"
   ]
  },
  {
   "cell_type": "code",
   "execution_count": 15,
   "id": "9e1b534a",
   "metadata": {},
   "outputs": [
    {
     "data": {
      "text/html": [
       "<script>\n",
       "arr = [1,2,3,4,5];\n",
       "bad_copy = arr;\n",
       "//# the main difference in JavaScript is that the unpacking operator is different.\n",
       "//# It's \"...\" instead of \"*\"\n",
       "arr_copy = [...arr];\n",
       "arr_copy[0] = 5;\n",
       "\n",
       "print(\"Correctly copied contents modified separately:\")\n",
       "print(arr_copy)\n",
       "print(\"Original contents not modified by a good copy:\")\n",
       "print(arr)\n",
       "//# using copies of a reference still affects the original contents\n",
       "bad_copy[0] = 0\n",
       "print(\"Original contents modified by a bad copy.\")\n",
       "print(arr)\n",
       "</script>\n"
      ],
      "text/plain": [
       "<IPython.core.display.HTML object>"
      ]
     },
     "metadata": {},
     "output_type": "display_data"
    }
   ],
   "source": [
    "%%HTML\n",
    "<script>\n",
    "arr = [1,2,3,4,5];\n",
    "bad_copy = arr;\n",
    "//# the main difference in JavaScript is that the unpacking operator is different.\n",
    "//# It's \"...\" instead of \"*\"\n",
    "arr_copy = [...arr];\n",
    "arr_copy[0] = 5;\n",
    "\n",
    "print(\"Correctly copied contents modified separately:\")\n",
    "print(arr_copy)\n",
    "print(\"Original contents not modified by a good copy:\")\n",
    "print(arr)\n",
    "//# using copies of a reference still affects the original contents\n",
    "bad_copy[0] = 0\n",
    "print(\"Original contents modified by a bad copy.\")\n",
    "print(arr)\n",
    "</script>"
   ]
  },
  {
   "cell_type": "markdown",
   "id": "183e5122",
   "metadata": {},
   "source": [
    "## Copying multidimensional arrays"
   ]
  },
  {
   "cell_type": "code",
   "execution_count": 17,
   "id": "64003bf4",
   "metadata": {},
   "outputs": [
    {
     "name": "stdout",
     "output_type": "stream",
     "text": [
      "Copy\n",
      "[[  1 -10   5   7   9]\n",
      " [  2   4   6   8  10]]\n",
      "Original\n",
      "[[ 1  3  5  7  9]\n",
      " [ 2  4  6  8 10]]\n",
      "Original Contents modified by a bad copy.\n",
      "[[  1 999   5   7   9]\n",
      " [  2   4   6   8  10]]\n",
      "From numpy back to List form.\n",
      "[[1, -10, 5, 7, 9], [2, 4, 6, 8, 10]]\n"
     ]
    }
   ],
   "source": [
    "# python can use numpy to copy things, but it needs \n",
    "#  to be a numpy array and not a standard python list.\n",
    "import numpy as np\n",
    "arr = np.array([list(range(1,10,2)), list(range(2,12,2))])\n",
    "arr_copy = np.ndarray.copy(arr)\n",
    "arr_copy[0,1] = -10\n",
    "print(\"Copy\")\n",
    "print(arr_copy)\n",
    "print(\"Original\")\n",
    "print(arr)\n",
    "\n",
    "# again, demonstrating copying just the reference to the content in memory is bad.\n",
    "bad_copy = arr\n",
    "bad_copy[0,1] = 999\n",
    "print(\"Original Contents modified by a bad copy.\")\n",
    "print(arr)\n",
    "\n",
    "# you can convert it back to a python list though:\n",
    "print(\"From numpy back to List form.\")\n",
    "print(arr_copy.tolist())"
   ]
  },
  {
   "cell_type": "code",
   "execution_count": 31,
   "id": "2b93a6c9",
   "metadata": {},
   "outputs": [
    {
     "data": {
      "text/html": [
       "<script>\n",
       "\n",
       "arr = [range(1,10,2), range(2,12,2), 3];\n",
       "arr_copy = clone(arr);\n",
       "//# can't use tuple indexing like in python\n",
       "//#  must use a pair of []'s for every dimension\n",
       "arr_copy[0][1] = -10;\n",
       "arr_copy[2] = 1\n",
       "//# my print is simpler than python's, \n",
       "//#  so let's separate the dimensions with two prints\n",
       "\n",
       "print(\"Original Contents\");\n",
       "print(arr[0])\n",
       "print(arr[1])\n",
       "print(arr[2])\n",
       "\n",
       "print(\"Good Copy Contents\");\n",
       "print(arr_copy[0])\n",
       "print(arr_copy[1])\n",
       "print(arr_copy[2])\n",
       "\n",
       "print(\"Original Contents -- still the same\");\n",
       "print(arr[0])\n",
       "print(arr[1])\n",
       "print(arr[2])\n",
       "\n",
       "\n",
       "//# again, demonstrating copying just the reference to the content in memory is bad.\n",
       "bad_copy = [...arr];\n",
       "bad_copy[0][0] = 999;\n",
       "bad_copy[2] = 1;\n",
       "print(\"Bad Copy Contents\");\n",
       "print(bad_copy[0])\n",
       "print(bad_copy[1])\n",
       "print(bad_copy[2])\n",
       "print(\"Original Contents modified by a bad (shallow) copy.\");\n",
       "print(arr[0])\n",
       "print(arr[1])\n",
       "print(arr[2])\n",
       "</script>\n"
      ],
      "text/plain": [
       "<IPython.core.display.HTML object>"
      ]
     },
     "metadata": {},
     "output_type": "display_data"
    }
   ],
   "source": [
    "%%HTML\n",
    "<script>\n",
    "\n",
    "arr = [range(1,10,2), range(2,12,2), 3];\n",
    "arr_copy = clone(arr);\n",
    "//# can't use tuple indexing like in python\n",
    "//#  must use a pair of []'s for every dimension\n",
    "arr_copy[0][1] = -10;\n",
    "arr_copy[2] = 1\n",
    "//# my print is simpler than python's, \n",
    "//#  so let's separate the dimensions with two prints\n",
    "\n",
    "print(\"Original Contents\");\n",
    "print(arr[0])\n",
    "print(arr[1])\n",
    "print(arr[2])\n",
    "\n",
    "print(\"Good Copy Contents\");\n",
    "print(arr_copy[0])\n",
    "print(arr_copy[1])\n",
    "print(arr_copy[2])\n",
    "\n",
    "print(\"Original Contents -- still the same\");\n",
    "print(arr[0])\n",
    "print(arr[1])\n",
    "print(arr[2])\n",
    "\n",
    "\n",
    "//# again, demonstrating copying just the reference to the content in memory is bad.\n",
    "bad_copy = [...arr];\n",
    "bad_copy[0][0] = 999;\n",
    "bad_copy[2] = 1;\n",
    "print(\"Bad Copy Contents\");\n",
    "print(bad_copy[0])\n",
    "print(bad_copy[1])\n",
    "print(bad_copy[2])\n",
    "print(\"Original Contents modified by a bad (shallow) copy.\");\n",
    "print(arr[0])\n",
    "print(arr[1])\n",
    "print(arr[2])\n",
    "</script>"
   ]
  },
  {
   "cell_type": "markdown",
   "id": "0012a353",
   "metadata": {},
   "source": [
    "## Cloning dictionaries"
   ]
  },
  {
   "cell_type": "code",
   "execution_count": 50,
   "id": "98aff1a3",
   "metadata": {},
   "outputs": [
    {
     "name": "stdout",
     "output_type": "stream",
     "text": [
      "Copy modified separately {'value': [-10, 1, 2, 3, 4, 5, 6, 7, 8, 9], 'category': [0, 1, 2, 3, 4, 5, 6, 7, 8, 9]}\n",
      "Unmodified original      {'value': [0, 1, 2, 3, 4, 5, 6, 7, 8, 9], 'category': [0, 1, 2, 3, 4, 5, 6, 7, 8, 9]}\n",
      "Original Contents modified by a bad copy:\n",
      "                         {'value': [999, 1, 2, 3, 4, 5, 6, 7, 8, 9], 'category': [0, 1, 2, 3, 4, 5, 6, 7, 8, 9]}\n"
     ]
    }
   ],
   "source": [
    "import pandas as pd\n",
    "d = {\"value\":list(range(10)), \"category\":list(range(10))}\n",
    "d_copy = pd.DataFrame(d).copy().to_dict('list')\n",
    "d_copy[\"value\"][0] = -10\n",
    "print(\"Copy modified separately\", d_copy)\n",
    "print(\"Unmodified original     \", d)\n",
    "# again, demonstrating copying just the reference to the content in memory is bad.\n",
    "bad_copy = d;\n",
    "bad_copy[\"value\"][0] = 999\n",
    "print(\"Original Contents modified by a bad copy:\\n                        \", d)"
   ]
  },
  {
   "cell_type": "code",
   "execution_count": 33,
   "id": "441b2829",
   "metadata": {},
   "outputs": [
    {
     "data": {
      "text/html": [
       "<script>\n",
       "//# the provided clone() also works for dictionaries with arrays.\n",
       "d = {\"category\":range(10), \"value\":range(10)}\n",
       "d_copy = clone(d);\n",
       "d_copy[\"value\"][0] = -1;\n",
       "print(\"Copied Contents\\n\" + d_copy[\"value\"])\n",
       "print(\"Original Contents\\n\" + d[\"value\"])\n",
       "\n",
       "\n",
       "//# again, demonstrating copying just the reference to the content in memory is bad.\n",
       "bad_copy = d;\n",
       "bad_copy[\"value\"][0] = 999\n",
       "print(\"Original Contents modified by a bad copy.\\n\" + d[\"value\"])\n",
       "\n",
       "\n",
       "</script>\n"
      ],
      "text/plain": [
       "<IPython.core.display.HTML object>"
      ]
     },
     "metadata": {},
     "output_type": "display_data"
    }
   ],
   "source": [
    "%%HTML\n",
    "<script>\n",
    "//# the provided clone() also works for dictionaries with arrays.\n",
    "d = {\"category\":range(10), \"value\":range(10)}\n",
    "d_copy = clone(d);\n",
    "d_copy[\"value\"][0] = -1;\n",
    "print(\"Copied Contents\\n\" + d_copy[\"value\"])\n",
    "print(\"Original Contents\\n\" + d[\"value\"])\n",
    "\n",
    "\n",
    "//# again, demonstrating copying just the reference to the content in memory is bad.\n",
    "bad_copy = d;\n",
    "bad_copy[\"value\"][0] = 999\n",
    "print(\"Original Contents modified by a bad copy.\\n\" + d[\"value\"])\n",
    "\n",
    "\n",
    "</script>"
   ]
  },
  {
   "cell_type": "code",
   "execution_count": null,
   "id": "86ae3ca9",
   "metadata": {},
   "outputs": [],
   "source": [
    "%%HTML\n",
    "<script>\n",
    "//# risk and ambiguity model\n",
    "function SV_option_RA(stimulus_values, params) {\n",
    "    var objective_value = stimulus_values[0];\n",
    "    var ambiguity = stimulus_values[1];\n",
    "    var probability = stimulus_values[2];\n",
    "    var value_certain = stimulus_values[3];\n",
    "    var alpha_subject_risk_aversion = params[0];\n",
    "    var beta_ambiguity_aversion = params[1];\n",
    "    \n",
    "    var sv_reward, sv_null;\n",
    "    sv_reward = Math.sign(objective_value)*(probability - beta_ambiguity_aversion * (ambiguity/2)) * Math.pow(Math.abs(objective_value), alpha_subject_risk_aversion);\n",
    "    sv_null = Math.sign(value_certain)*Math.pow(Math.abs(value_certain), alpha_subject_risk_aversion);\n",
    "\n",
    "    var gamma = params[2];\n",
    "    // probability of selecting the lottery\n",
    "    prob = 1. / (1 + Math.exp(-gamma * (sv_reward - sv_null)));\n",
    "    return prob;\n",
    "}\n",
    "</script>"
   ]
  },
  {
   "cell_type": "code",
   "execution_count": 40,
   "id": "f6fa4e1c",
   "metadata": {},
   "outputs": [
    {
     "data": {
      "text/html": [
       "<script>\n",
       "//# make the empty array to build into.\n",
       "preexisting = random.randint(1, 51, 72);\n",
       "alpha = 1.1;\n",
       "beta = 0.5;\n",
       "prob = 0.5;\n",
       "amb = 0;\n",
       "max_lott = 50.0;\n",
       "min_lott = -50.0;\n",
       "sv = [];\n",
       "//# add values to the array with the push() function.\n",
       "preexisting.forEach(function(money){sv.push((prob - beta * amb / 2) * Math.pow(money, alpha))});\n",
       "print(\"The resulting list from a list comprehension containing squared values from 1 to 9\")\n",
       "print(sv);\n",
       "\n",
       "</script>\n"
      ],
      "text/plain": [
       "<IPython.core.display.HTML object>"
      ]
     },
     "metadata": {},
     "output_type": "display_data"
    }
   ],
   "source": [
    "%%HTML\n",
    "<script>\n",
    "//# make the empty array to build into.\n",
    "alpha = 1.1;\n",
    "beta = 0.5;\n",
    "prob = 0.5;\n",
    "amb = 0;\n",
    "prob_levels = [0.13, 0.25, 0.38, 0.50, 0.75];\n",
    "amb_levels = [0.24, 0.50, 0.74];\n",
    "max_lott = 50.0;\n",
    "min_lott = -50.0;\n",
    "sv = [];\n",
    "lott_SV = function(money, alpha, beta, prob, amb){\n",
    "    (prob - beta * amb / 2) * Math.pow(money, alpha)\n",
    "}\n",
    "\n",
    "\n",
    "\n",
    "preexisting = random.randint(1, 51, 72);\n",
    "//# add values to the array with the push() function.\n",
    "preexisting.forEach(function(money){sv.push((prob - beta * amb / 2) * Math.pow(money, alpha))});\n",
    "print(sv);\n",
    "\n",
    "</script>"
   ]
  },
  {
   "cell_type": "code",
   "execution_count": 36,
   "id": "8b8acf71",
   "metadata": {},
   "outputs": [
    {
     "data": {
      "text/html": [
       "<script>\n",
       "//#converts from sv to safe money space\n",
       "sv_to_safe = function(sv, alpha){return Math.pow(sv, 1/alpha)}\n",
       "print(sv_to_safe)\n",
       "</script>\n"
      ],
      "text/plain": [
       "<IPython.core.display.HTML object>"
      ]
     },
     "metadata": {},
     "output_type": "display_data"
    }
   ],
   "source": [
    "%%HTML\n",
    "<script>\n",
    "//#converts from sv to safe money space\n",
    "sv_to_safe = function(sv, alpha) {return Math.pow(sv, 1/alpha)}\n",
    "\n",
    "</script>"
   ]
  },
  {
   "cell_type": "code",
   "execution_count": null,
   "id": "ebc5c5c6",
   "metadata": {},
   "outputs": [],
   "source": [
    "//#compute SV of maximum lottery gain at each probability level, given alpha and beta\n",
    "\n"
   ]
  },
  {
   "cell_type": "code",
   "execution_count": null,
   "id": "254e163d",
   "metadata": {},
   "outputs": [],
   "source": []
  },
  {
   "cell_type": "code",
   "execution_count": null,
   "id": "329f099e",
   "metadata": {},
   "outputs": [],
   "source": []
  }
 ],
 "metadata": {
  "kernelspec": {
   "display_name": "Python 3 (ipykernel)",
   "language": "python",
   "name": "python3"
  },
  "language_info": {
   "codemirror_mode": {
    "name": "ipython",
    "version": 3
   },
   "file_extension": ".py",
   "mimetype": "text/x-python",
   "name": "python",
   "nbconvert_exporter": "python",
   "pygments_lexer": "ipython3",
   "version": "3.11.4"
  }
 },
 "nbformat": 4,
 "nbformat_minor": 5
}
